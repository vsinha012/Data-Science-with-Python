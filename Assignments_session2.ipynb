{
 "cells": [
  {
   "cell_type": "markdown",
   "metadata": {},
   "source": [
    "# Assignment1: Take two paragraphs and apply set operation"
   ]
  },
  {
   "cell_type": "code",
   "execution_count": 3,
   "metadata": {},
   "outputs": [
    {
     "data": {
      "text/plain": [
       "{'Saudi Arabia fans at the World Cup were in disbelief after their team shocked Argentina on Tuesday, setting off jubilant scenes in Qatar and the Saudi capital.        After one of the biggest upsets in the tournament’s history, fans flooded the streets outside Lusail Stadium waving green and white Saudi flags.        Then they entered a nearby subway station chanting, singing — and even hugging Argentina fans.Many were simply incredulous after the 2-1         comeback victory over Argentina, which won the World Cup twice in 1978 and 1986.        And Argentina is one of the favorites this time — or it was until Tuesday — and also won the South American championship last year.',\n",
       " 'The Qatar 2022 World Cup just witnessed its first shocking result—and it was one for the ages.        Saudi Arabia, a neighbor to host country Qatar, upset Argentina 2-1 in the opening match of Group C         play on Tuesday afternoon in Lusail. The result left Argentinian supporters stunned in their seats in Lusail Stadium,        and set off a wild celebration among Saudis in the partisan crowd and at the nearby Fan Fest.        The country’s innovative high 4-4-1-1 formation put constant pressure on the heavily favored Argentinians,        and key defensive plays late in the fixture saved the day for the Saudis.'}"
      ]
     },
     "execution_count": 3,
     "metadata": {},
     "output_type": "execute_result"
    }
   ],
   "source": [
    "set1 = {'Saudi Arabia fans at the World Cup were in disbelief after their team shocked Argentina on Tuesday, setting off jubilant scenes in Qatar and the Saudi capital.\\\n",
    "        After one of the biggest upsets in the tournament’s history, fans flooded the streets outside Lusail Stadium waving green and white Saudi flags.\\\n",
    "        Then they entered a nearby subway station chanting, singing — and even hugging Argentina fans.Many were simply incredulous after the 2-1 \\\n",
    "        comeback victory over Argentina, which won the World Cup twice in 1978 and 1986.\\\n",
    "        And Argentina is one of the favorites this time — or it was until Tuesday — and also won the South American championship last year.'}\n",
    "\n",
    "set2 = {'The Qatar 2022 World Cup just witnessed its first shocking result—and it was one for the ages.\\\n",
    "        Saudi Arabia, a neighbor to host country Qatar, upset Argentina 2-1 in the opening match of Group C \\\n",
    "        play on Tuesday afternoon in Lusail. The result left Argentinian supporters stunned in their seats in Lusail Stadium,\\\n",
    "        and set off a wild celebration among Saudis in the partisan crowd and at the nearby Fan Fest.\\\n",
    "        The country’s innovative high 4-4-1-1 formation put constant pressure on the heavily favored Argentinians,\\\n",
    "        and key defensive plays late in the fixture saved the day for the Saudis.'}\n",
    "        \n",
    "set3=set1.union(set2)\n",
    "set3"
   ]
  },
  {
   "cell_type": "code",
   "execution_count": 5,
   "metadata": {},
   "outputs": [
    {
     "data": {
      "text/plain": [
       "{'Saudi Arabia fans at the World Cup were in disbelief after their team shocked Argentina on Tuesday, setting off jubilant scenes in Qatar and the Saudi capital.        After one of the biggest upsets in the tournament’s history, fans flooded the streets outside Lusail Stadium waving green and white Saudi flags.        Then they entered a nearby subway station chanting, singing — and even hugging Argentina fans.Many were simply incredulous after the 2-1         comeback victory over Argentina, which won the World Cup twice in 1978 and 1986.        And Argentina is one of the favorites this time — or it was until Tuesday — and also won the South American championship last year.'}"
      ]
     },
     "execution_count": 5,
     "metadata": {},
     "output_type": "execute_result"
    }
   ],
   "source": [
    "set4=set1.difference(set2)\n",
    "set4"
   ]
  },
  {
   "cell_type": "code",
   "execution_count": 6,
   "metadata": {},
   "outputs": [
    {
     "data": {
      "text/plain": [
       "set()"
      ]
     },
     "execution_count": 6,
     "metadata": {},
     "output_type": "execute_result"
    }
   ],
   "source": [
    "set5=set1.intersection(set2)\n",
    "set5"
   ]
  },
  {
   "cell_type": "code",
   "execution_count": 8,
   "metadata": {},
   "outputs": [
    {
     "data": {
      "text/plain": [
       "True"
      ]
     },
     "execution_count": 8,
     "metadata": {},
     "output_type": "execute_result"
    }
   ],
   "source": [
    "set6=set1.isdisjoint(set2)\n",
    "set6"
   ]
  },
  {
   "cell_type": "code",
   "execution_count": 9,
   "metadata": {},
   "outputs": [
    {
     "data": {
      "text/plain": [
       "{'Saudi Arabia fans at the World Cup were in disbelief after their team shocked Argentina on Tuesday, setting off jubilant scenes in Qatar and the Saudi capital.        After one of the biggest upsets in the tournament’s history, fans flooded the streets outside Lusail Stadium waving green and white Saudi flags.        Then they entered a nearby subway station chanting, singing — and even hugging Argentina fans.Many were simply incredulous after the 2-1         comeback victory over Argentina, which won the World Cup twice in 1978 and 1986.        And Argentina is one of the favorites this time — or it was until Tuesday — and also won the South American championship last year.',\n",
       " 'The Qatar 2022 World Cup just witnessed its first shocking result—and it was one for the ages.        Saudi Arabia, a neighbor to host country Qatar, upset Argentina 2-1 in the opening match of Group C         play on Tuesday afternoon in Lusail. The result left Argentinian supporters stunned in their seats in Lusail Stadium,        and set off a wild celebration among Saudis in the partisan crowd and at the nearby Fan Fest.        The country’s innovative high 4-4-1-1 formation put constant pressure on the heavily favored Argentinians,        and key defensive plays late in the fixture saved the day for the Saudis.'}"
      ]
     },
     "execution_count": 9,
     "metadata": {},
     "output_type": "execute_result"
    }
   ],
   "source": [
    "set7=set1.symmetric_difference(set2)\n",
    "set7"
   ]
  },
  {
   "cell_type": "markdown",
   "metadata": {},
   "source": [
    "# Assignment2: Compute salary of employee. "
   ]
  },
  {
   "cell_type": "code",
   "execution_count": 1,
   "metadata": {},
   "outputs": [
    {
     "name": "stdin",
     "output_type": "stream",
     "text": [
      "Enter the basic salary 16000\n"
     ]
    },
    {
     "data": {
      "text/plain": [
       "18240.0"
      ]
     },
     "execution_count": 1,
     "metadata": {},
     "output_type": "execute_result"
    }
   ],
   "source": [
    "# Compute Salary\n",
    "BasicSalary=float(input('Enter the basic salary'))\n",
    "\n",
    "if BasicSalary <= 10000:\n",
    "    HRBenefits=BasicSalary*.10\n",
    "    Bonus=BasicSalary*.05\n",
    "elif BasicSalary > 10000 and BasicSalary <=30000:\n",
    "    HRBenefits=BasicSalary*.08\n",
    "    Bonus=BasicSalary*.06\n",
    "else:\n",
    "    HRBenefits=BasicSalary*0.07\n",
    "    Bonus=BasicSalary*.07\n",
    "\n",
    "Gross_Salary= BasicSalary+Bonus+HRBenefits\n",
    "Gross_Salary"
   ]
  },
  {
   "cell_type": "code",
   "execution_count": null,
   "metadata": {},
   "outputs": [],
   "source": []
  }
 ],
 "metadata": {
  "kernelspec": {
   "display_name": "Python 3",
   "language": "python",
   "name": "python3"
  },
  "language_info": {
   "codemirror_mode": {
    "name": "ipython",
    "version": 3
   },
   "file_extension": ".py",
   "mimetype": "text/x-python",
   "name": "python",
   "nbconvert_exporter": "python",
   "pygments_lexer": "ipython3",
   "version": "3.7.6"
  }
 },
 "nbformat": 4,
 "nbformat_minor": 4
}
